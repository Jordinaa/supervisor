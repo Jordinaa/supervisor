{
 "cells": [
  {
   "cell_type": "code",
   "execution_count": 10,
   "id": "5fea91be-6365-48a5-a6e0-e70003d3d87a",
   "metadata": {},
   "outputs": [
    {
     "ename": "ModuleNotFoundError",
     "evalue": "No module named 'config'",
     "output_type": "error",
     "traceback": [
      "\u001b[0;31m---------------------------------------------------------------------------\u001b[0m",
      "\u001b[0;31mModuleNotFoundError\u001b[0m                       Traceback (most recent call last)",
      "Cell \u001b[0;32mIn[10], line 5\u001b[0m\n\u001b[1;32m      3\u001b[0m \u001b[38;5;28;01mimport\u001b[39;00m \u001b[38;5;21;01mseaborn\u001b[39;00m \u001b[38;5;28;01mas\u001b[39;00m \u001b[38;5;21;01msns\u001b[39;00m\n\u001b[1;32m      4\u001b[0m \u001b[38;5;28;01mimport\u001b[39;00m \u001b[38;5;21;01mnumpy\u001b[39;00m \u001b[38;5;28;01mas\u001b[39;00m \u001b[38;5;21;01mnp\u001b[39;00m\n\u001b[0;32m----> 5\u001b[0m \u001b[38;5;28;01mimport\u001b[39;00m \u001b[38;5;21;01mconfig\u001b[39;00m\n",
      "\u001b[0;31mModuleNotFoundError\u001b[0m: No module named 'config'"
     ]
    }
   ],
   "source": [
    "import csv\n",
    "import matplotlib.pyplot as plt\n",
    "import seaborn as sns\n",
    "import numpy as np"
   ]
  },
  {
   "cell_type": "code",
   "execution_count": null,
   "id": "55a6c057-a0aa-452c-a77c-6570026584d5",
   "metadata": {},
   "outputs": [],
   "source": [
    "angleList = np.arange(0, self.alpha_stall, 0.01 * np.pi/180)\n",
    "coefficient_lift_list = [self.calc_cl(angle) for angle in self.angleList]\n",
    "clMax = max(self.coefficient_lift_list)\n",
    "clMaxWeights = [.9, .8, .7, .6]\n",
    "vStall = self.calc_v_stall\n",
    "angleListDegrees = np.rad2deg(self.angleList)"
   ]
  },
  {
   "cell_type": "code",
   "execution_count": null,
   "id": "81e48113-e2f9-4b81-8313-d10181b27032",
   "metadata": {},
   "outputs": [],
   "source": [
    "def plot_init_vn():\n",
    "    self.ax.set_xlim(left=0, right=25)\n",
    "    self.ax.set_ylim([-5, 5])\n",
    "    self.ax.axhline(y=1, color='green', linestyle='--', alpha=0.2, linewidth=1)\n",
    "    self.ax.axhline(y=-1, color='green', linestyle='--', alpha=0.2, linewidth=1)\n",
    "    self.ax.set_xlabel('Velocity')\n",
    "    # self.ax.set_xticks(range(0, int(ticks), 5))\n",
    "    self.ax.set_ylabel('Load Factor')\n",
    "    # self.ax.set_yticks(range(-ticks, ticks, 1))\n",
    "    self.ax.set_title('Load Factor vs. Velocity')\n",
    "    self.ax.grid(visible=True)\n",
    "    self.ax.legend(fontsize='small')\n",
    "    return self.lines\n",
    "\n",
    "def static_plot(self, static_velocity, static_load_factors):\n",
    "    bounds = []\n",
    "    line_styles = ['-', '-', '-', '-', '-']  # Define different line styles for each weight\n",
    "    line_labels = ['$Cl_{Max}$', '$Cl_{Max}$ ⋅ 0.9', '$Cl_{Max}$ ⋅ 0.8', '$Cl_{Max}$ ⋅ 0.7', '$Cl_{Max}$ ⋅ 0.6']  # Define the labels for each line   \n",
    "    line_colors = [plt.cm.Reds(x) for x in range(256, 128, -(256-128)//(6-1))]\n",
    "    for load_factor, line_style, label, line_color in zip(static_load_factors, line_styles, line_labels, line_colors):\n",
    "        self.ax.plot(static_velocity, load_factor, color=line_color, linestyle=line_style, label=label, alpha=1, linewidth=1)\n",
    "        bounds.append((static_velocity, load_factor))\n",
    "    return bounds"
   ]
  },
  {
   "cell_type": "code",
   "execution_count": null,
   "id": "f5a0bf2c-782c-4c9a-9bf7-2e51184b2d24",
   "metadata": {},
   "outputs": [],
   "source": [
    "def calc_load_factor_vs_velocity_static(self):\n",
    "    velocities = np.linspace(0, 30, 250)\n",
    "    calc_load_factor_lists = []\n",
    "    calc_load_factor_list = []\n",
    "\n",
    "    for v in velocities:\n",
    "        self.dynamic_pressure = 0.5 * self.rho * v ** 2\n",
    "        self.lift = self.clMax * self.area * self.dynamic_pressure\n",
    "        self.load_factor = self.lift / (self.mass * self.g)\n",
    "        calc_load_factor_list.append(self.load_factor)\n",
    "    calc_load_factor_lists.append(calc_load_factor_list)\n",
    "\n",
    "    for weight in self.clMaxWeights:\n",
    "        calc_load_factor_list = []\n",
    "        for v in velocities:\n",
    "            self.dynamic_pressure = 0.5 * self.rho * v ** 2\n",
    "            self.lift = self.clMax * weight * self.area * self.dynamic_pressure\n",
    "            self.load_factor = self.lift / (self.mass * self.g)\n",
    "            calc_load_factor_list.append(self.load_factor)\n",
    "        calc_load_factor_lists.append(calc_load_factor_list)\n",
    "\n",
    "    return velocities, calc_load_factor_lists"
   ]
  },
  {
   "cell_type": "code",
   "execution_count": 6,
   "id": "cc87501a-13e8-49ce-bc0e-d567bb590afc",
   "metadata": {
    "tags": []
   },
   "outputs": [],
   "source": [
    "def plot_data_from_csv(filename):\n",
    "    # Read the data from the CSV file\n",
    "    time_data = []\n",
    "    true_v = []\n",
    "    true_n = []\n",
    "    predict_v = []\n",
    "    predict_n = []\n",
    "    bound = []\n",
    "\n",
    "    with open(filename, \"r\") as f:\n",
    "        csv_reader = csv.reader(f)\n",
    "        next(csv_reader) # skip the header row\n",
    "        for row in csv_reader:\n",
    "            time_data.append(float(row[0]))\n",
    "            true_v.append(float(row[1]))\n",
    "            true_n.append(float(row[2]))\n",
    "            predict_v.append(float(row[3]))\n",
    "            predict_n.append(float(row[4]))\n",
    "            bound.append(float(row[5]))\n",
    "\n",
    "    fig, ax = plt.subplots()\n",
    "    ax.plot(true_v, true_n, label=\"N_true\")\n",
    "    ax.plot(predict_v, predict_n, label=\"N_prediction\")\n",
    "    ax.legend()\n",
    "    ax.set_xlabel(\"Velocity (m/s)\")\n",
    "    ax.set_ylabel(\"Load Factor\")\n",
    "    ax.set_title(\"V-n Diagram\")\n",
    "    \n",
    "    # fig.savefig(\"V-n_Diagram.svg\")\n"
   ]
  },
  {
   "cell_type": "code",
   "execution_count": 8,
   "id": "6d5471ce-52cc-4510-b657-b7a4649f9617",
   "metadata": {
    "tags": []
   },
   "outputs": [],
   "source": [
    "# plot_data_from_csv(\"data/drone_data_2023-03-31_10-46_0_0.csv\")"
   ]
  },
  {
   "cell_type": "code",
   "execution_count": null,
   "id": "cf5f335e-84cd-41e2-b6b7-a671b7b8bd5b",
   "metadata": {},
   "outputs": [],
   "source": []
  }
 ],
 "metadata": {
  "kernelspec": {
   "display_name": "Python 3 (ipykernel)",
   "language": "python",
   "name": "python3"
  },
  "language_info": {
   "codemirror_mode": {
    "name": "ipython",
    "version": 3
   },
   "file_extension": ".py",
   "mimetype": "text/x-python",
   "name": "python",
   "nbconvert_exporter": "python",
   "pygments_lexer": "ipython3",
   "version": "3.8.10"
  }
 },
 "nbformat": 4,
 "nbformat_minor": 5
}
